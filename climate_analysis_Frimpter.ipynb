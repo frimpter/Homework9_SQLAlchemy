{
 "cells": [
  {
   "cell_type": "code",
   "execution_count": null,
   "metadata": {},
   "outputs": [],
   "source": [
    "# Climate analysis for Hawaii\n",
    "\n",
    "import sqlalchemy\n",
    "from sqlalchemy.ext.automap import automap_base\n",
    "from sqlalchemy.orm import Session\n",
    "from sqlalchemy import create_engine, inspect, func\n",
    "\n",
    "# Engine connection\n",
    "engine = create_engine(\"sqlite:///hawaii.sqlite\", echo=False)\n",
    "\n",
    "# Reflect database into ORM classes\n",
    "Base = automap_base()\n",
    "Base.prepare(engine, reflect=True)\n",
    "Base.classes.keys()\n"
   ]
  },
  {
   "cell_type": "code",
   "execution_count": null,
   "metadata": {
    "collapsed": true
   },
   "outputs": [],
   "source": [
    "# Map both tables\n",
    "Measurements = Base.classes.measurements\n",
    "Stations = Base.classes.stations\n",
    "\n",
    "# Create a session\n",
    "session = Session(engine)"
   ]
  },
  {
   "cell_type": "code",
   "execution_count": null,
   "metadata": {},
   "outputs": [],
   "source": [
    "# Get a list of column names and types\n",
    "inspector = inspect(engine)\n",
    "\n",
    "columns = inspector.get_columns('measurements')\n",
    "#columns\n",
    "for row in columns:\n",
    "    print(row[\"name\"], row[\"type\"])\n"
   ]
  },
  {
   "cell_type": "code",
   "execution_count": null,
   "metadata": {},
   "outputs": [],
   "source": [
    "#Check the table\n",
    "engine.execute(\"SELECT * FROM measurements LIMIT 5\").fetchall()"
   ]
  },
  {
   "cell_type": "code",
   "execution_count": null,
   "metadata": {},
   "outputs": [],
   "source": [
    "# Check we still have all the expected rows (with dates)\n",
    "session.query(func.count(Measurements.date)).all()"
   ]
  },
  {
   "cell_type": "code",
   "execution_count": null,
   "metadata": {
    "collapsed": true
   },
   "outputs": [],
   "source": [
    "# PRECIPITATION ANALYSIS\n",
    "# Retrieve the last 12 months of precipitation data\n",
    "import datetime as dt\n",
    "\n",
    "target_date = dt.date.today() - dt.timedelta(days=365)\n",
    "#print(target_date)\n",
    "\n",
    "past_year = session.query(Measurements.date, Measurements.prcp).filter(Measurements.date >= target_date)\\\n",
    ".filter(Measurements.date <= dt.date.today()).all()\n",
    "#print(past_year)\n"
   ]
  },
  {
   "cell_type": "code",
   "execution_count": null,
   "metadata": {},
   "outputs": [],
   "source": [
    "# Load results into DataFrame and Plot\n",
    "import pandas as pd\n",
    "import matplotlib\n",
    "import matplotlib.pyplot as plt\n",
    "import seaborn as sns\n",
    "\n",
    "pastyear_df = pd.DataFrame(past_year, columns=[\"date\", \"prcp\"])\n",
    "pastyear_df.set_index(\"date\", inplace=True)\n",
    "pastyear_df.head()\n"
   ]
  },
  {
   "cell_type": "code",
   "execution_count": null,
   "metadata": {},
   "outputs": [],
   "source": [
    "# Create a bar chart of Date vs. Precipitation\n",
    "bar = pastyear_df.plot(kind=\"bar\", figsize=(20,10), legend=False, rot=45, fontsize=12)\n",
    "\n",
    "# Set the x-axis label\n",
    "bar.set_xlabel(\"Date\", fontsize=12)\n",
    "\n",
    "# Set the y-axis label\n",
    "bar.set_ylabel(\"Precipitation, inches\", fontsize=12)\n",
    "\n",
    "plt.show()"
   ]
  },
  {
   "cell_type": "code",
   "execution_count": null,
   "metadata": {},
   "outputs": [],
   "source": [
    "# View summary statistics\n",
    "\n",
    "pastyear_df.describe()"
   ]
  },
  {
   "cell_type": "code",
   "execution_count": null,
   "metadata": {},
   "outputs": [],
   "source": [
    "# STATION ANALYSIS\n",
    "#Calculate the total number of stations.\n",
    "\n",
    "#engine.execute(\"SELECT COUNT(DISTINCT(station)) FROM measurements\").fetchall()\n",
    "\n",
    "# OR - USING A DATAFRAME - nicer output - Number of stations\n",
    "stations = session.query(Measurements.station, Measurements.tobs).all()\n",
    "stations_df = pd.DataFrame(stations)\n",
    "#stations_df.head()\n",
    "\n",
    "num_stations = stations_df.groupby([\"station\"]).count()\n",
    "print(\"There are \" + str(num_stations[\"tobs\"].count()) + \" weather stations in Hawaii.\")"
   ]
  },
  {
   "cell_type": "code",
   "execution_count": null,
   "metadata": {},
   "outputs": [],
   "source": [
    "#Find the most active stations.\n",
    "#List the stations and observation counts in descending order\n",
    "#Which station has the highest number of observations?\n",
    "\n",
    "#engine.execute(\"SELECT station, COUNT(station) FROM measurements GROUP BY station ORDER BY station DESC\").fetchall()\n",
    "\n",
    "# OR - USING A DATAFRAME - nicer output - Number of Stations by number of tobs values\n",
    "stations = session.query(Measurements.station, Measurements.tobs).all()\n",
    "stations_df = pd.DataFrame(stations)\n",
    "#stations_df.head()\n",
    "\n",
    "num_stations = stations_df.groupby([\"station\"]).count().reset_index().sort_values([\"tobs\"], ascending=False)\n",
    "print(num_stations)\n"
   ]
  },
  {
   "cell_type": "code",
   "execution_count": null,
   "metadata": {},
   "outputs": [],
   "source": [
    "#Retrieve the last 12 months of temperature observation data (tobs).\n",
    "#Filter by the station with the highest number of observations.\n",
    "\n",
    "target_date = dt.date.today() - dt.timedelta(days=365)\n",
    "#print(target_date)\n",
    "\n",
    "past_year = session.query(Measurements.date, Measurements.station, Measurements.tobs)\\\n",
    ".filter(Measurements.date >= target_date)\\\n",
    ".filter(Measurements.date <= dt.date.today())\\\n",
    ".filter(Measurements.station == \"USC00513117\").all()\n",
    "\n",
    "#print(past_year)\n",
    "\n",
    "#Plot the results as a histogram with bins=12.\n",
    "temps = [result[2] for result in past_year]\n",
    "#print(temps)\n",
    "temps_df = pd.DataFrame(temps)\n",
    "\n",
    "histo = temps_df.plot.hist(bins=12, figsize=(10,10), legend=False, fontsize=12)\n",
    "\n",
    "# Set the x-axis label\n",
    "histo.set_xlabel(\"Temperature (F)\", fontsize=12)\n",
    "\n",
    "# Set the y-axis label\n",
    "histo.set_ylabel(\"Number of Days, Past Year\", fontsize=12)\n",
    "\n",
    "plt.show()\n"
   ]
  },
  {
   "cell_type": "code",
   "execution_count": null,
   "metadata": {
    "collapsed": true
   },
   "outputs": [],
   "source": [
    "# TEMPERATURE ANALYSIS\n",
    "# Write a function called calc_temps that will accept a start date and end date in the format %Y-%m-%d and return the minimum, average, and maximum temperatures for that range of dates.\n",
    "\n",
    "def calc_temps(start_date, end_date):\n",
    "    min_temp = session.query(func.min(Measurements.tobs))\\\n",
    "    .filter(Measurements.date >= start_date)\\\n",
    "    .filter(Measurements.date <= end_date).all()\n",
    "\n",
    "    max_temp = session.query(func.max(Measurements.tobs))\\\n",
    "    .filter(Measurements.date >= start_date)\\\n",
    "    .filter(Measurements.date <= end_date).all()\n",
    "\n",
    "    avg_temp = session.query(func.avg(Measurements.tobs))\\\n",
    "    .filter(Measurements.date >= start_date)\\\n",
    "    .filter(Measurements.date <= end_date).all()\n",
    "    \n",
    "    print(\"From \" + str(start_date) + \" to \" + str(end_date) + \", the average temperature was \" + str(round(avg_temp[0][0],0)) + \" degrees, with a minimum of \" + str(min_temp[0][0]) + \" and a maximum of \" + str(max_temp[0][0]) + \".\")\n",
    "    return min_temp, max_temp, avg_temp"
   ]
  },
  {
   "cell_type": "code",
   "execution_count": null,
   "metadata": {},
   "outputs": [],
   "source": [
    "# Use the calc_temps function to calculate the min, avg, and max temperatures for your trip using the matching dates from the previous year (i.e. use \"2017-01-01\" if your trip start date was \"2018-01-01\")\n",
    "\n",
    "start_date = \"2016-06-06\"\n",
    "end_date = \"2017-06-06\"\n",
    "calc_temps(start_date, end_date)\n"
   ]
  },
  {
   "cell_type": "code",
   "execution_count": null,
   "metadata": {},
   "outputs": [],
   "source": [
    "# Plot the min, avg, and max temperature from your previous query as a bar chart.\n",
    "# Use the average temperature as the bar height.\n",
    "# Use the peak-to-peak (tmax-tmin) value as the y error bar (yerr).\n",
    "\n",
    "plt.bar(x=1, height=75, width=1, align=\"center\", color=\"blue\", yerr=8) #, capsize=5)\n",
    "\n",
    "plt.show()\n"
   ]
  },
  {
   "cell_type": "code",
   "execution_count": null,
   "metadata": {},
   "outputs": [],
   "source": [
    "# Climate App\n",
    "\n",
    "from flask import Flask, jsonify\n",
    "\n",
    "climate_app = Flask(__name__)\n",
    "\n",
    "@climate_app.route(\"/\")\n",
    "def home():\n",
    "    print(\"Server received request for Home page\")\n",
    "    return \"Welcome to the Climate App.\"\n",
    "\n",
    "# The homework called this route \"/precipitation\" but called for temp observations so I made the route to align with the query and data \n",
    "@climate_app.route(\"/api/v1.0/temperature\")\n",
    "def temps():\n",
    "    import datetime as dt\n",
    "    target_date = dt.date.today() - dt.timedelta(days=365)\n",
    "    past_year = session.query(Measurements.date, Measurements.tobs).filter(Measurements.date >= target_date)\\\n",
    "    .filter(Measurements.date <= dt.date.today()).all()\n",
    "    temp_dict = {Measurements.date:Measurements.tobs}\n",
    "    all_temps = list(np.ravel(temp_dict))\n",
    "    return jsonify(all_temps)\n",
    "\n",
    "if __name__ == \"__main__\":\n",
    "    climate_app.run(debug=True)\n",
    "\n",
    "# NOT DONE YET, FLASK CONNECTION NOT HAPPENING"
   ]
  },
  {
   "cell_type": "code",
   "execution_count": null,
   "metadata": {},
   "outputs": [],
   "source": [
    "@climate_app.route(\"/api/v1.0/stations\")\n",
    "def home():\n",
    "    return \"Welcome to the Stations Analysis.\"\n",
    "\n",
    "@climate_app.route(\"/api/v1.0/tobs\")\n",
    "def home():\n",
    "    return \"Welcome to the Temperature Analysis.\""
   ]
  }
 ],
 "metadata": {
  "kernelspec": {
   "display_name": "Python 3",
   "language": "python",
   "name": "python3"
  },
  "language_info": {
   "codemirror_mode": {
    "name": "ipython",
    "version": 3
   },
   "file_extension": ".py",
   "mimetype": "text/x-python",
   "name": "python",
   "nbconvert_exporter": "python",
   "pygments_lexer": "ipython3",
   "version": "3.6.3"
  }
 },
 "nbformat": 4,
 "nbformat_minor": 2
}
